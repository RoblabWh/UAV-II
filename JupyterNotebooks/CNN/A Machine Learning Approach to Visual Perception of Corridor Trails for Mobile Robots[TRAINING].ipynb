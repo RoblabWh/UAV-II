{
 "cells": [
  {
   "cell_type": "markdown",
   "metadata": {},
   "source": [
    "# A Machine Learning Approach to Visual Perception of Corridor Trails for Mobile Robots"
   ]
  },
  {
   "cell_type": "markdown",
   "metadata": {},
   "source": [
    "@Author: Artur Leinweber <br>\n",
    "@E-Mail: arturleinweber@live.de <br>\n",
    "@University: Westphalian University of Gelsenkirchen <br>"
   ]
  },
  {
   "cell_type": "markdown",
   "metadata": {},
   "source": [
    "### Imports\n",
    "tf.keras is TensorFlow's implementation of the Keras API specification. This is a high-level API to build and train models that includes first-class support for TensorFlow-specific functionality.\n",
    "Importing tf.keras makes TensorFlow easier to use without sacrificing flexibility and performance.\n"
   ]
  },
  {
   "cell_type": "code",
   "execution_count": 1,
   "metadata": {
    "pycharm": {
     "is_executing": false
    }
   },
   "outputs": [
    {
     "name": "stderr",
     "output_type": "stream",
     "text": [
      "/home/gas/venv_laptop_jupyter/lib/python3.6/site-packages/tensorflow/python/framework/dtypes.py:516: FutureWarning: Passing (type, 1) or '1type' as a synonym of type is deprecated; in a future version of numpy, it will be understood as (type, (1,)) / '(1,)type'.\n",
      "  _np_qint8 = np.dtype([(\"qint8\", np.int8, 1)])\n",
      "/home/gas/venv_laptop_jupyter/lib/python3.6/site-packages/tensorflow/python/framework/dtypes.py:517: FutureWarning: Passing (type, 1) or '1type' as a synonym of type is deprecated; in a future version of numpy, it will be understood as (type, (1,)) / '(1,)type'.\n",
      "  _np_quint8 = np.dtype([(\"quint8\", np.uint8, 1)])\n",
      "/home/gas/venv_laptop_jupyter/lib/python3.6/site-packages/tensorflow/python/framework/dtypes.py:518: FutureWarning: Passing (type, 1) or '1type' as a synonym of type is deprecated; in a future version of numpy, it will be understood as (type, (1,)) / '(1,)type'.\n",
      "  _np_qint16 = np.dtype([(\"qint16\", np.int16, 1)])\n",
      "/home/gas/venv_laptop_jupyter/lib/python3.6/site-packages/tensorflow/python/framework/dtypes.py:519: FutureWarning: Passing (type, 1) or '1type' as a synonym of type is deprecated; in a future version of numpy, it will be understood as (type, (1,)) / '(1,)type'.\n",
      "  _np_quint16 = np.dtype([(\"quint16\", np.uint16, 1)])\n",
      "/home/gas/venv_laptop_jupyter/lib/python3.6/site-packages/tensorflow/python/framework/dtypes.py:520: FutureWarning: Passing (type, 1) or '1type' as a synonym of type is deprecated; in a future version of numpy, it will be understood as (type, (1,)) / '(1,)type'.\n",
      "  _np_qint32 = np.dtype([(\"qint32\", np.int32, 1)])\n",
      "/home/gas/venv_laptop_jupyter/lib/python3.6/site-packages/tensorflow/python/framework/dtypes.py:525: FutureWarning: Passing (type, 1) or '1type' as a synonym of type is deprecated; in a future version of numpy, it will be understood as (type, (1,)) / '(1,)type'.\n",
      "  np_resource = np.dtype([(\"resource\", np.ubyte, 1)])\n",
      "/home/gas/venv_laptop_jupyter/lib/python3.6/site-packages/tensorboard/compat/tensorflow_stub/dtypes.py:541: FutureWarning: Passing (type, 1) or '1type' as a synonym of type is deprecated; in a future version of numpy, it will be understood as (type, (1,)) / '(1,)type'.\n",
      "  _np_qint8 = np.dtype([(\"qint8\", np.int8, 1)])\n",
      "/home/gas/venv_laptop_jupyter/lib/python3.6/site-packages/tensorboard/compat/tensorflow_stub/dtypes.py:542: FutureWarning: Passing (type, 1) or '1type' as a synonym of type is deprecated; in a future version of numpy, it will be understood as (type, (1,)) / '(1,)type'.\n",
      "  _np_quint8 = np.dtype([(\"quint8\", np.uint8, 1)])\n",
      "/home/gas/venv_laptop_jupyter/lib/python3.6/site-packages/tensorboard/compat/tensorflow_stub/dtypes.py:543: FutureWarning: Passing (type, 1) or '1type' as a synonym of type is deprecated; in a future version of numpy, it will be understood as (type, (1,)) / '(1,)type'.\n",
      "  _np_qint16 = np.dtype([(\"qint16\", np.int16, 1)])\n",
      "/home/gas/venv_laptop_jupyter/lib/python3.6/site-packages/tensorboard/compat/tensorflow_stub/dtypes.py:544: FutureWarning: Passing (type, 1) or '1type' as a synonym of type is deprecated; in a future version of numpy, it will be understood as (type, (1,)) / '(1,)type'.\n",
      "  _np_quint16 = np.dtype([(\"quint16\", np.uint16, 1)])\n",
      "/home/gas/venv_laptop_jupyter/lib/python3.6/site-packages/tensorboard/compat/tensorflow_stub/dtypes.py:545: FutureWarning: Passing (type, 1) or '1type' as a synonym of type is deprecated; in a future version of numpy, it will be understood as (type, (1,)) / '(1,)type'.\n",
      "  _np_qint32 = np.dtype([(\"qint32\", np.int32, 1)])\n",
      "/home/gas/venv_laptop_jupyter/lib/python3.6/site-packages/tensorboard/compat/tensorflow_stub/dtypes.py:550: FutureWarning: Passing (type, 1) or '1type' as a synonym of type is deprecated; in a future version of numpy, it will be understood as (type, (1,)) / '(1,)type'.\n",
      "  np_resource = np.dtype([(\"resource\", np.ubyte, 1)])\n"
     ]
    },
    {
     "name": "stdout",
     "output_type": "stream",
     "text": [
      "Tensorflow Version: 1.14.0\n",
      "Keras Version: 2.2.4-tf\n"
     ]
    }
   ],
   "source": [
    "%matplotlib inline  \n",
    "import tensorflow as tf\n",
    "from tensorflow.keras import layers, regularizers, utils, preprocessing, optimizers, backend\n",
    "from sklearn.model_selection import train_test_split\n",
    "from sklearn.preprocessing import LabelBinarizer\n",
    "from sklearn.metrics import classification_report\n",
    "from IPython.display import Image, clear_output\n",
    "import matplotlib.pyplot as plt\n",
    "from imutils import paths\n",
    "import numpy as np\n",
    "import time\n",
    "import os\n",
    "import cv2\n",
    "import sys\n",
    "\n",
    "print(\"Tensorflow Version: \" + tf.VERSION)\n",
    "print(\"Keras Version: \" + tf.keras.__version__)\n",
    "tf.logging.set_verbosity(tf.logging.ERROR)"
   ]
  },
  {
   "cell_type": "markdown",
   "metadata": {},
   "source": [
    "Progressbar function"
   ]
  },
  {
   "cell_type": "code",
   "execution_count": 2,
   "metadata": {
    "pycharm": {
     "is_executing": false
    }
   },
   "outputs": [],
   "source": [
    "def update_progress(progress, custom=\"\"):\n",
    "    bar_length = 20\n",
    "    if isinstance(progress, int):\n",
    "        progress = float(progress)\n",
    "    if not isinstance(progress, float):\n",
    "        progress = 0\n",
    "    if progress < 0:\n",
    "        progress = 0\n",
    "    if progress >= 1:\n",
    "        progress = 1\n",
    "\n",
    "    block = int(round(bar_length * progress))\n",
    "\n",
    "    clear_output(wait = True)\n",
    "    text = custom + \"Progress: [{0}] {1:.1f}%\".format( \"#\" * block + \"-\" * (bar_length - block), progress * 100)\n",
    "    print(text, end=\"\\r\")"
   ]
  },
  {
   "cell_type": "markdown",
   "metadata": {},
   "source": [
    "### Sequential model\n",
    "In Keras, you assemble layers to build models. A model is (usually) a graph of layers. The most common type of model is a stack of layers: the tf.keras.Sequential model."
   ]
  },
  {
   "cell_type": "code",
   "execution_count": 3,
   "metadata": {
    "pycharm": {
     "is_executing": false
    }
   },
   "outputs": [],
   "source": [
    "# Layer 1\n",
    "Conv2DLayer1 = layers.Conv2D(input_shape = (101,101,1),\n",
    "                             filters = 32,\n",
    "                             kernel_size = (4,4),\n",
    "                             padding = \"valid\",\n",
    "                             strides = (1, 1),\n",
    "                             kernel_initializer = \"glorot_uniform\",\n",
    "                             kernel_regularizer = regularizers.l2(0.0005)) \n",
    "\n",
    "ActivationLayer1 = layers.Activation(\"tanh\")\n",
    "\n",
    "NormalizationLayer1 = layers.BatchNormalization()\n",
    "\n",
    "PoolingLayer1 = layers.MaxPooling2D(pool_size = (2, 2),\n",
    "                                    strides = (2, 2),\n",
    "                                    padding = \"valid\")\n",
    "\n",
    "# Layer 2\n",
    "Conv2DLayer2 = layers.Conv2D(filters = 32,\n",
    "                             kernel_size = (4,4),\n",
    "                             padding = \"valid\",\n",
    "                             strides = (1, 1),\n",
    "                             kernel_initializer = \"glorot_uniform\",\n",
    "                             kernel_regularizer = regularizers.l2(0.0005))\n",
    "\n",
    "ActivationLayer2 = layers.Activation(\"tanh\")\n",
    "\n",
    "NormalizationLayer2 = layers.BatchNormalization()\n",
    "\n",
    "PoolingLayer2 = layers.MaxPooling2D(pool_size = (2, 2),\n",
    "                                    strides = (2, 2),\n",
    "                                    padding = \"valid\")\n",
    "# Layer 3\n",
    "Conv2DLayer3 = layers.Conv2D(filters = 32,\n",
    "                             kernel_size = (4,4),\n",
    "                             padding = \"valid\",\n",
    "                             strides = (1, 1),\n",
    "                             kernel_initializer = \"glorot_uniform\",\n",
    "                             kernel_regularizer = regularizers.l2(0.0005))\n",
    "\n",
    "ActivationLayer3 = layers.Activation(\"tanh\")\n",
    "\n",
    "NormalizationLayer3 = layers.BatchNormalization()\n",
    "\n",
    "PoolingLayer3 = layers.MaxPooling2D(pool_size = (2, 2),\n",
    "                                    strides = (2, 2),\n",
    "                                    padding = \"valid\")\n",
    "# Layer 4\n",
    "Conv2DLayer4 = layers.Conv2D(filters = 32,\n",
    "                             kernel_size = (3,3),\n",
    "                             padding = \"valid\",\n",
    "                             strides = (1, 1),\n",
    "                             kernel_initializer = \"glorot_uniform\",\n",
    "                             kernel_regularizer = regularizers.l2(0.0005))\n",
    "\n",
    "ActivationLayer4 = layers.Activation(\"tanh\")\n",
    "\n",
    "NormalizationLayer4 = layers.BatchNormalization()\n",
    "\n",
    "PoolingLayer4 = layers.MaxPooling2D(pool_size = (2, 2),\n",
    "                                    strides = (2, 2),\n",
    "                                    padding = \"valid\")\n",
    "# Fully Connected Layer\n",
    "FlattenLayer5 = layers.Flatten()\n",
    "#DenseLayer5 = layers.Dense(200, kernel_initializer = \"glorot_uniform\")\n",
    "DenseLayer5 = layers.Dense(130, kernel_initializer = \"glorot_uniform\")\n",
    "ActivationLayer5 = layers.Activation(\"tanh\")\n",
    "NormalizationLayer5 = layers.BatchNormalization()\n",
    "\n",
    "# Softmax Classifier\n",
    "DenseLayer6 = layers.Dense(3)\n",
    "ActivationLayer6 = layers.Activation(\"softmax\")\n",
    "\n",
    "model_architecture = [\n",
    "         Conv2DLayer1,\n",
    "         ActivationLayer1,\n",
    "         NormalizationLayer1,\n",
    "         PoolingLayer1,\n",
    "         \n",
    "         Conv2DLayer2,\n",
    "         ActivationLayer2,\n",
    "         NormalizationLayer2,\n",
    "         PoolingLayer2,\n",
    "         \n",
    "#         Conv2DLayer3,\n",
    "#         ActivationLayer3,\n",
    "#         NormalizationLayer3,\n",
    "#         PoolingLayer3,\n",
    "         \n",
    "#         Conv2DLayer4,\n",
    "#         ActivationLayer4,\n",
    "#         NormalizationLayer4,\n",
    "#         PoolingLayer4,\n",
    "         \n",
    "         FlattenLayer5,\n",
    "         DenseLayer5,\n",
    "         ActivationLayer5,\n",
    "         NormalizationLayer5,\n",
    "         \n",
    "         DenseLayer6,\n",
    "         ActivationLayer6]\n",
    "\n",
    "model = tf.keras.Sequential(model_architecture)"
   ]
  },
  {
   "cell_type": "markdown",
   "metadata": {},
   "source": [
    "### Prints a summary representation of the model"
   ]
  },
  {
   "cell_type": "code",
   "execution_count": 4,
   "metadata": {
    "pycharm": {
     "is_executing": false
    }
   },
   "outputs": [
    {
     "name": "stdout",
     "output_type": "stream",
     "text": [
      "Model: \"sequential\"\n",
      "_________________________________________________________________\n",
      "Layer (type)                 Output Shape              Param #   \n",
      "=================================================================\n",
      "conv2d (Conv2D)              (None, 98, 98, 32)        544       \n",
      "_________________________________________________________________\n",
      "activation (Activation)      (None, 98, 98, 32)        0         \n",
      "_________________________________________________________________\n",
      "batch_normalization (BatchNo (None, 98, 98, 32)        128       \n",
      "_________________________________________________________________\n",
      "max_pooling2d (MaxPooling2D) (None, 49, 49, 32)        0         \n",
      "_________________________________________________________________\n",
      "conv2d_1 (Conv2D)            (None, 46, 46, 32)        16416     \n",
      "_________________________________________________________________\n",
      "activation_1 (Activation)    (None, 46, 46, 32)        0         \n",
      "_________________________________________________________________\n",
      "batch_normalization_1 (Batch (None, 46, 46, 32)        128       \n",
      "_________________________________________________________________\n",
      "max_pooling2d_1 (MaxPooling2 (None, 23, 23, 32)        0         \n",
      "_________________________________________________________________\n",
      "flatten (Flatten)            (None, 16928)             0         \n",
      "_________________________________________________________________\n",
      "dense (Dense)                (None, 130)               2200770   \n",
      "_________________________________________________________________\n",
      "activation_4 (Activation)    (None, 130)               0         \n",
      "_________________________________________________________________\n",
      "batch_normalization_4 (Batch (None, 130)               520       \n",
      "_________________________________________________________________\n",
      "dense_1 (Dense)              (None, 3)                 393       \n",
      "_________________________________________________________________\n",
      "activation_5 (Activation)    (None, 3)                 0         \n",
      "=================================================================\n",
      "Total params: 2,218,899\n",
      "Trainable params: 2,218,511\n",
      "Non-trainable params: 388\n",
      "_________________________________________________________________\n",
      "None\n"
     ]
    }
   ],
   "source": [
    "print(model.summary())"
   ]
  },
  {
   "cell_type": "markdown",
   "metadata": {},
   "source": [
    "### Plot a graph of the model and save it to a file"
   ]
  },
  {
   "cell_type": "code",
   "execution_count": 5,
   "metadata": {
    "pycharm": {
     "is_executing": false
    }
   },
   "outputs": [
    {
     "name": "stdout",
     "output_type": "stream",
     "text": [
      "Failed to import pydot. You must install pydot and graphviz for `pydotprint` to work.\n"
     ]
    },
    {
     "data": {
      "image/png": "[encoded data removed]",
      "text/plain": [
       "<IPython.core.display.Image object>"
      ]
     },
     "execution_count": 5,
     "metadata": {
      "image/png": {
       "height": 804,
       "width": 318
      }
     },
     "output_type": "execute_result"
    }
   ],
   "source": [
    "utils.plot_model(model, show_shapes = True, show_layer_names = True, to_file = 'plots/model.png')\n",
    "Image(retina = True, filename = 'plots/model.png')"
   ]
  },
  {
   "cell_type": "markdown",
   "metadata": {},
   "source": [
    "## Set up Training"
   ]
  },
  {
   "cell_type": "markdown",
   "metadata": {},
   "source": [
    "Arguments for Training, that we need to set are:\n",
    "* The path to the input dataset.\n",
    "* The number of epochs to train for.\n",
    "* Path for Our loss/accuracy plot, that will be output to disk\n",
    "* etc."
   ]
  },
  {
   "cell_type": "code",
   "execution_count": 6,
   "metadata": {
    "pycharm": {
     "is_executing": false
    }
   },
   "outputs": [],
   "source": [
    "MODEL_NAME = \"corridor\"\n",
    "DATASET_PATH = os.getcwd() + \"/dataset/corridor\"\n",
    "VALIDATION_PATH = DATASET_PATH + \"/validation\"\n",
    "TRAIN_PATH = DATASET_PATH + \"/train\"\n",
    "TRAIN_EVAL_PLOT_PATH = os.getcwd() + \"/plots\"\n",
    "\n",
    "DATASET_PATH_MODIFIED =  os.getcwd() + \"/dataset/corridor_m\"\n",
    "VALIDATION_PATH_MODIFIED = DATASET_PATH_MODIFIED + \"/validation\"\n",
    "TRAIN_PATH_MODIFIED = DATASET_PATH_MODIFIED + \"/train\"\n",
    "\n",
    "NUMBER_OF_EPOCHS = 300\n",
    "BATCH_SIZE = 64\n",
    "INIT_LEARNING_RATE = 1e-4\n",
    "DECAY_LEARNING_RATE = 1e-4 / NUMBER_OF_EPOCHS"
   ]
  },
  {
   "cell_type": "markdown",
   "metadata": {},
   "source": [
    "Here we can see the dataset structure:\n",
    "\n",
    "+ dataset / corridor\n",
    "    \n",
    "    - validation\n",
    "        - left (X Files)\n",
    "        - forward (X Files)\n",
    "        - right (X Files)\n",
    "    - train\n",
    "        - left (X Files)\n",
    "        - forward (X Files)\n",
    "        - right (X Files)"
   ]
  },
  {
   "cell_type": "markdown",
   "metadata": {},
   "source": [
    "Initialize the set of labels from dataset we are going to train our network on."
   ]
  },
  {
   "cell_type": "code",
   "execution_count": 7,
   "metadata": {
    "pycharm": {
     "is_executing": false
    }
   },
   "outputs": [],
   "source": [
    "LABELS = list([\"left\",\"forward\",\"right\"])"
   ]
  },
  {
   "cell_type": "markdown",
   "metadata": {},
   "source": [
    "Genrate a list of image pathes for our training"
   ]
  },
  {
   "cell_type": "code",
   "execution_count": 8,
   "metadata": {
    "pycharm": {
     "is_executing": false
    }
   },
   "outputs": [
    {
     "name": "stdout",
     "output_type": "stream",
     "text": [
      "Size of the train-dataset: 30914\n",
      "Size of the validation-dataset: 15305\n"
     ]
    }
   ],
   "source": [
    "train_image_paths = list(paths.list_images(TRAIN_PATH))\n",
    "validation_image_paths = list(paths.list_images(VALIDATION_PATH))\n",
    "\n",
    "print(\"Size of the train-dataset: \" + str(len(train_image_paths)))\n",
    "print(\"Size of the validation-dataset: \" + str(len(validation_image_paths)))"
   ]
  },
  {
   "cell_type": "markdown",
   "metadata": {},
   "source": [
    "Load default dataset and create a new one with data augemtation. Grab the list of images in our dataset directory, then initialize the list of data (i.e., images) and class images."
   ]
  },
  {
   "cell_type": "code",
   "execution_count": null,
   "metadata": {
    "scrolled": true
   },
   "outputs": [],
   "source": [
    "i = 0.0\n",
    "for imagePath in train_image_paths:\n",
    "\n",
    "    update_progress(i / len(train_image_paths), \"Loading train images \")\n",
    "    i = i + 1.0\n",
    "    \n",
    "    label = imagePath.split(os.path.sep)[-2]\n",
    "    filename = imagePath.split(os.path.sep)[-1]\n",
    "    if label not in LABELS:\n",
    "        continue\n",
    " \n",
    "    image = cv2.imread(imagePath,cv2.IMREAD_GRAYSCALE)[212:906, 468:1399]\n",
    "    image = cv2.resize(image, (101, 101))\n",
    "    cv2.imwrite(TRAIN_PATH_MODIFIED + '/' + label + '/' + filename, image)"
   ]
  },
  {
   "cell_type": "code",
   "execution_count": 9,
   "metadata": {},
   "outputs": [],
   "source": [
    "train_image_paths = list(paths.list_images(TRAIN_PATH_MODIFIED))"
   ]
  },
  {
   "cell_type": "code",
   "execution_count": null,
   "metadata": {},
   "outputs": [],
   "source": [
    "i = 0.0\n",
    "for imagePath in train_image_paths:\n",
    "\n",
    "    update_progress(i / len(train_image_paths), \"Loading train images \")\n",
    "    i = i + 1.0\n",
    "    \n",
    "    label = imagePath.split(os.path.sep)[-2]\n",
    "    if label == 'left':\n",
    "        label = 'right'\n",
    "    elif label == 'right':\n",
    "        label = 'left'\n",
    "    filename = imagePath.split(os.path.sep)[-1]\n",
    "    if label not in LABELS:\n",
    "        continue\n",
    " \n",
    "    image = cv2.flip(cv2.imread(imagePath), cv2.IMREAD_GRAYSCALE)\n",
    "    cv2.imwrite(TRAIN_PATH_MODIFIED + '/' + label + '/f' + filename, image)"
   ]
  },
  {
   "cell_type": "code",
   "execution_count": 10,
   "metadata": {},
   "outputs": [
    {
     "name": "stdout",
     "output_type": "stream",
     "text": [
      "Size of the train-dataset: 61828\n"
     ]
    }
   ],
   "source": [
    "train_image_paths = list(paths.list_images(TRAIN_PATH_MODIFIED))\n",
    "print(\"Size of the train-dataset: \" + str(len(train_image_paths)))"
   ]
  },
  {
   "cell_type": "code",
   "execution_count": 11,
   "metadata": {
    "pycharm": {
     "is_executing": true
    }
   },
   "outputs": [
    {
     "name": "stdout",
     "output_type": "stream",
     "text": [
      "Loading train images Progress: [####################] 99.3%\r"
     ]
    }
   ],
   "source": [
    "train_images = []\n",
    "validation_images = []\n",
    "\n",
    "train_labels = []\n",
    "validation_labels = []\n",
    "i = 0.0\n",
    "\n",
    "for imagePath in train_image_paths:\n",
    "\n",
    "    update_progress(i / len(train_image_paths), \"Loading train images \")\n",
    "    i = i + 1.0\n",
    "    \n",
    "    label = imagePath.split(os.path.sep)[-2]\n",
    " \n",
    "    if label not in LABELS:\n",
    "        continue\n",
    " \n",
    "    image = cv2.imread(imagePath, cv2.IMREAD_GRAYSCALE)\n",
    " \n",
    "    train_images.append(image)\n",
    "    train_labels.append(label)"
   ]
  },
  {
   "cell_type": "code",
   "execution_count": null,
   "metadata": {},
   "outputs": [],
   "source": [
    "i = 0.0\n",
    "for imagePath in validation_image_paths:\n",
    "\n",
    "    update_progress(i / len(validation_image_paths), \"Loading validation images \")\n",
    "    i = i + 1.0\n",
    "    \n",
    "    label = imagePath.split(os.path.sep)[-2]\n",
    "    filename = imagePath.split(os.path.sep)[-1]\n",
    "    if label not in LABELS:\n",
    "        continue\n",
    " \n",
    "    image = cv2.imread(imagePath, cv2.IMREAD_GRAYSCALE)[212:906, 468:1399]\n",
    "    image = cv2.resize(image, (101, 101))\n",
    "    cv2.imwrite(VALIDATION_PATH_MODIFIED + '/' + label + '/' + filename, image)"
   ]
  },
  {
   "cell_type": "code",
   "execution_count": 12,
   "metadata": {},
   "outputs": [],
   "source": [
    "validation_image_paths = list(paths.list_images(VALIDATION_PATH_MODIFIED))"
   ]
  },
  {
   "cell_type": "code",
   "execution_count": null,
   "metadata": {},
   "outputs": [],
   "source": [
    "i = 0.0\n",
    "for imagePath in validation_image_paths:\n",
    "\n",
    "    update_progress(i / len(validation_image_paths), \"Loading validation images \")\n",
    "    i = i + 1.0\n",
    "    \n",
    "    label = imagePath.split(os.path.sep)[-2]\n",
    "    if label == 'left':\n",
    "        label = 'right'\n",
    "    elif label == 'right':\n",
    "        label = 'left'\n",
    "    filename = imagePath.split(os.path.sep)[-1]\n",
    "    if label not in LABELS:\n",
    "        continue\n",
    "\n",
    "    image = cv2.flip(cv2.imread(imagePath), cv2.IMREAD_GRAYSCALE)\n",
    "    cv2.imwrite(VALIDATION_PATH_MODIFIED + '/' + label + '/f' + filename, image)"
   ]
  },
  {
   "cell_type": "code",
   "execution_count": 13,
   "metadata": {},
   "outputs": [
    {
     "name": "stdout",
     "output_type": "stream",
     "text": [
      "Size of the validation-dataset: 30610\n"
     ]
    }
   ],
   "source": [
    "validation_image_paths = list(paths.list_images(VALIDATION_PATH_MODIFIED))\n",
    "print(\"Size of the validation-dataset: \" + str(len(validation_image_paths)))"
   ]
  },
  {
   "cell_type": "code",
   "execution_count": 14,
   "metadata": {},
   "outputs": [
    {
     "name": "stderr",
     "output_type": "stream",
     "text": [
      "IOPub message rate exceeded.\n",
      "The notebook server will temporarily stop sending output\n",
      "to the client in order to avoid crashing it.\n",
      "To change this limit, set the config variable\n",
      "`--NotebookApp.iopub_msg_rate_limit`.\n",
      "\n",
      "Current values:\n",
      "NotebookApp.iopub_msg_rate_limit=1000.0 (msgs/sec)\n",
      "NotebookApp.rate_limit_window=3.0 (secs)\n",
      "\n"
     ]
    }
   ],
   "source": [
    "i = 0.0\n",
    "for imagePath in validation_image_paths:\n",
    "\n",
    "    update_progress(i / len(validation_image_paths), \"Loading validation images \")\n",
    "    i = i + 1.0\n",
    "    \n",
    "    label = imagePath.split(os.path.sep)[-2]\n",
    " \n",
    "    if label not in LABELS:\n",
    "        continue\n",
    " \n",
    "    image = cv2.imread(imagePath, cv2.IMREAD_GRAYSCALE)\n",
    " \n",
    "    validation_images.append(image)\n",
    "    validation_labels.append(label)"
   ]
  },
  {
   "cell_type": "code",
   "execution_count": 15,
   "metadata": {},
   "outputs": [
    {
     "name": "stdout",
     "output_type": "stream",
     "text": [
      "Size of the train-dataset: 61828\n",
      "Size of the validation-dataset: 30610\n"
     ]
    }
   ],
   "source": [
    "print(\"Size of the train-dataset: \" + str(len(train_images)))\n",
    "print(\"Size of the validation-dataset: \" + str(len(validation_images)))"
   ]
  },
  {
   "cell_type": "markdown",
   "metadata": {},
   "source": [
    "Convert the data into a NumPy array, then preprocess it by scaling all pixel intensities to the range (0, 1)"
   ]
  },
  {
   "cell_type": "code",
   "execution_count": 16,
   "metadata": {},
   "outputs": [
    {
     "name": "stdout",
     "output_type": "stream",
     "text": [
      "(61828, 101, 101, 1)\n"
     ]
    }
   ],
   "source": [
    "train_images = np.expand_dims(np.array(train_images, dtype = \"float\") / 255.0, axis=3)\n",
    "validation_images = np.expand_dims(np.array(validation_images, dtype = \"float\") / 255.0, axis=3)\n",
    "print(train_images.shape)"
   ]
  },
  {
   "cell_type": "markdown",
   "metadata": {},
   "source": [
    "Creating one-hot encoding vectors on the labels (for each image!)"
   ]
  },
  {
   "cell_type": "code",
   "execution_count": 17,
   "metadata": {},
   "outputs": [],
   "source": [
    "left_hot_encoding = np.ndarray((3,),dtype=np.int64,strides=(8,))\n",
    "forward_hot_encoding = np.ndarray((3,),dtype=np.int64,strides=(8,))\n",
    "right_hot_encoding = np.ndarray((3,),dtype=np.int64,strides=(8,))\n",
    "\n",
    "train_hot_encoding_vectors = []\n",
    "validation_hot_encoding_vectors = []\n",
    "\n",
    "left_hot_encoding[:] =    [1, 0, 0]\n",
    "forward_hot_encoding[:] = [0, 1, 0]\n",
    "right_hot_encoding[:] =   [0, 0, 1]\n",
    "\n",
    "for label in train_labels:\n",
    "    if(label == \"left\"):\n",
    "        train_hot_encoding_vectors.append(left_hot_encoding)\n",
    "    elif(label == \"forward\"):\n",
    "        train_hot_encoding_vectors.append(forward_hot_encoding)\n",
    "    elif(label == \"right\"):\n",
    "        train_hot_encoding_vectors.append(right_hot_encoding)\n",
    "        \n",
    "for label in validation_labels:\n",
    "    if(label == \"left\"):\n",
    "        validation_hot_encoding_vectors.append(left_hot_encoding)\n",
    "    elif(label == \"forward\"):\n",
    "        validation_hot_encoding_vectors.append(forward_hot_encoding)\n",
    "    elif(label == \"right\"):\n",
    "        validation_hot_encoding_vectors.append(right_hot_encoding)\n",
    "\n",
    "train_hot_encoding_vectors = np.asarray(train_hot_encoding_vectors)\n",
    "validation_hot_encoding_vectors = np.asarray(validation_hot_encoding_vectors)"
   ]
  },
  {
   "cell_type": "code",
   "execution_count": 18,
   "metadata": {},
   "outputs": [
    {
     "name": "stdout",
     "output_type": "stream",
     "text": [
      "left:[1 0 0]\n",
      "forward:[0 1 0]\n",
      "right:[0 0 1]\n"
     ]
    }
   ],
   "source": [
    "for i in range(len(LABELS)):\n",
    "    index = train_labels.index(LABELS[i])\n",
    "    print(str(LABELS[i]) + \":\" + str(train_hot_encoding_vectors[index]))\n",
    "\n",
    "#for i in range(len(LABELS)):\n",
    "#    index = validation_labels.index(LABELS[i])\n",
    "#    print(str(LABELS[i]) + \":\" + str(validation_hot_encoding_vectors[index]))"
   ]
  },
  {
   "cell_type": "markdown",
   "metadata": {},
   "source": [
    "Construct the training image generator for data augmentation"
   ]
  },
  {
   "cell_type": "code",
   "execution_count": 19,
   "metadata": {},
   "outputs": [],
   "source": [
    "dataAugmentation = preprocessing.image.ImageDataGenerator(rotation_range = 15,\n",
    "                                                          zoom_range = 0.10,\n",
    "                                                          width_shift_range = 0.1,\n",
    "                                                          height_shift_range = 0.1,\n",
    "                                                          shear_range = 0.0,\n",
    "                                                          horizontal_flip = False,\n",
    "                                                          vertical_flip = False,\n",
    "                                                          fill_mode=\"nearest\")"
   ]
  },
  {
   "cell_type": "markdown",
   "metadata": {},
   "source": [
    "Initialize Adam Optimizer"
   ]
  },
  {
   "cell_type": "code",
   "execution_count": 20,
   "metadata": {},
   "outputs": [],
   "source": [
    "#sgdOptimizer = optimizers.SGD(lr=INIT_LEARNING_RATE, momentum=0.75, decay=DECAY_LEARNING_RATE, nesterov=True)\n",
    "adamOptimizer = optimizers.Adam(lr = INIT_LEARNING_RATE, decay = DECAY_LEARNING_RATE)"
   ]
  },
  {
   "cell_type": "markdown",
   "metadata": {},
   "source": [
    "After the model is constructed, configure its learning process by calling the compile method"
   ]
  },
  {
   "cell_type": "code",
   "execution_count": 21,
   "metadata": {},
   "outputs": [],
   "source": [
    "model.compile(loss = \"categorical_crossentropy\", optimizer = adamOptimizer, metrics = [\"accuracy\"])"
   ]
  },
  {
   "cell_type": "markdown",
   "metadata": {},
   "source": [
    "Save the entire model (HDF5 file) after every epoch (period)."
   ]
  },
  {
   "cell_type": "code",
   "execution_count": 22,
   "metadata": {},
   "outputs": [],
   "source": [
    "checkpoint_saver = tf.keras.callbacks.ModelCheckpoint('./checkpoints/'+ MODEL_NAME +'_weights{epoch:08d}.h5',\n",
    "                                save_weights_only=False,\n",
    "                                period=1,\n",
    "                                verbose=1,\n",
    "                                save_best_only=False,\n",
    "                                mode='auto')"
   ]
  },
  {
   "cell_type": "markdown",
   "metadata": {},
   "source": [
    "## Training"
   ]
  },
  {
   "cell_type": "markdown",
   "metadata": {},
   "source": [
    "Returns whether TensorFlow can access a Nvidia GPU with CUDA"
   ]
  },
  {
   "cell_type": "code",
   "execution_count": 23,
   "metadata": {},
   "outputs": [
    {
     "data": {
      "text/plain": [
       "True"
      ]
     },
     "execution_count": 23,
     "metadata": {},
     "output_type": "execute_result"
    }
   ],
   "source": [
    "tf.test.is_gpu_available(cuda_only = True)"
   ]
  },
  {
   "cell_type": "markdown",
   "metadata": {},
   "source": [
    "Training the model on data generated batch-by-batch by a Python generator (or an instance of Sequence).\n",
    "The generator is run in parallel to the model, for efficiency. For instance, this allows you to do real-time data augmentation on images on CPU in parallel to training your model on GPU."
   ]
  },
  {
   "cell_type": "code",
   "execution_count": 24,
   "metadata": {},
   "outputs": [
    {
     "name": "stdout",
     "output_type": "stream",
     "text": [
      "Epoch 1/100\n",
      "\n",
      "Epoch 00001: saving model to ./checkpoints/corridor_weights00000001.h5\n",
      "966/966 - 54s - loss: 0.5461 - acc: 0.7767 - val_loss: 0.5535 - val_acc: 0.7682\n",
      "Epoch 2/100\n",
      "\n",
      "Epoch 00002: saving model to ./checkpoints/corridor_weights00000002.h5\n",
      "966/966 - 59s - loss: 0.3206 - acc: 0.8816 - val_loss: 0.5211 - val_acc: 0.8035\n",
      "Epoch 3/100\n",
      "\n",
      "Epoch 00003: saving model to ./checkpoints/corridor_weights00000003.h5\n",
      "966/966 - 60s - loss: 0.2466 - acc: 0.9122 - val_loss: 0.3230 - val_acc: 0.8882\n",
      "Epoch 4/100\n",
      "\n",
      "Epoch 00004: saving model to ./checkpoints/corridor_weights00000004.h5\n",
      "966/966 - 60s - loss: 0.2112 - acc: 0.9268 - val_loss: 0.2565 - val_acc: 0.9097\n",
      "Epoch 5/100\n",
      "\n",
      "Epoch 00005: saving model to ./checkpoints/corridor_weights00000005.h5\n",
      "966/966 - 63s - loss: 0.1890 - acc: 0.9331 - val_loss: 0.3436 - val_acc: 0.8881\n",
      "Epoch 6/100\n",
      "\n",
      "Epoch 00006: saving model to ./checkpoints/corridor_weights00000006.h5\n",
      "966/966 - 66s - loss: 0.1795 - acc: 0.9380 - val_loss: 0.2608 - val_acc: 0.9026\n",
      "Epoch 7/100\n",
      "\n",
      "Epoch 00007: saving model to ./checkpoints/corridor_weights00000007.h5\n",
      "966/966 - 61s - loss: 0.1574 - acc: 0.9466 - val_loss: 0.3049 - val_acc: 0.8862\n",
      "Epoch 8/100\n",
      "\n",
      "Epoch 00008: saving model to ./checkpoints/corridor_weights00000008.h5\n",
      "966/966 - 61s - loss: 0.1519 - acc: 0.9484 - val_loss: 0.3460 - val_acc: 0.8845\n",
      "Epoch 9/100\n",
      "\n",
      "Epoch 00009: saving model to ./checkpoints/corridor_weights00000009.h5\n",
      "966/966 - 62s - loss: 0.1452 - acc: 0.9504 - val_loss: 0.3267 - val_acc: 0.8833\n",
      "Epoch 10/100\n",
      "\n",
      "Epoch 00010: saving model to ./checkpoints/corridor_weights00000010.h5\n",
      "966/966 - 63s - loss: 0.1368 - acc: 0.9535 - val_loss: 0.3654 - val_acc: 0.8626\n",
      "Epoch 11/100\n",
      "\n",
      "Epoch 00011: saving model to ./checkpoints/corridor_weights00000011.h5\n",
      "966/966 - 64s - loss: 0.1316 - acc: 0.9542 - val_loss: 0.3429 - val_acc: 0.9007\n",
      "Epoch 12/100\n",
      "\n",
      "Epoch 00012: saving model to ./checkpoints/corridor_weights00000012.h5\n",
      "966/966 - 61s - loss: 0.1254 - acc: 0.9576 - val_loss: 0.3165 - val_acc: 0.9000\n",
      "Epoch 13/100\n",
      "\n",
      "Epoch 00013: saving model to ./checkpoints/corridor_weights00000013.h5\n",
      "966/966 - 63s - loss: 0.1199 - acc: 0.9594 - val_loss: 0.5155 - val_acc: 0.8049\n",
      "Epoch 14/100\n",
      "\n",
      "Epoch 00014: saving model to ./checkpoints/corridor_weights00000014.h5\n",
      "966/966 - 61s - loss: 0.1167 - acc: 0.9613 - val_loss: 0.2395 - val_acc: 0.9192\n",
      "Epoch 15/100\n",
      "\n",
      "Epoch 00015: saving model to ./checkpoints/corridor_weights00000015.h5\n",
      "966/966 - 60s - loss: 0.1154 - acc: 0.9613 - val_loss: 0.2996 - val_acc: 0.9026\n",
      "Epoch 16/100\n",
      "\n",
      "Epoch 00016: saving model to ./checkpoints/corridor_weights00000016.h5\n",
      "966/966 - 61s - loss: 0.1082 - acc: 0.9631 - val_loss: 0.2880 - val_acc: 0.8987\n",
      "Epoch 17/100\n",
      "\n",
      "Epoch 00017: saving model to ./checkpoints/corridor_weights00000017.h5\n",
      "966/966 - 61s - loss: 0.1064 - acc: 0.9648 - val_loss: 0.3350 - val_acc: 0.8899\n",
      "Epoch 18/100\n",
      "\n",
      "Epoch 00018: saving model to ./checkpoints/corridor_weights00000018.h5\n",
      "966/966 - 61s - loss: 0.1044 - acc: 0.9657 - val_loss: 0.2629 - val_acc: 0.9162\n",
      "Epoch 19/100\n",
      "\n",
      "Epoch 00019: saving model to ./checkpoints/corridor_weights00000019.h5\n",
      "966/966 - 61s - loss: 0.1041 - acc: 0.9655 - val_loss: 0.3969 - val_acc: 0.8795\n",
      "Epoch 20/100\n",
      "\n",
      "Epoch 00020: saving model to ./checkpoints/corridor_weights00000020.h5\n",
      "966/966 - 61s - loss: 0.1021 - acc: 0.9658 - val_loss: 0.4313 - val_acc: 0.8570\n",
      "Epoch 21/100\n",
      "\n",
      "Epoch 00021: saving model to ./checkpoints/corridor_weights00000021.h5\n",
      "966/966 - 67s - loss: 0.0965 - acc: 0.9675 - val_loss: 0.3328 - val_acc: 0.8893\n",
      "Epoch 22/100\n",
      "\n",
      "Epoch 00022: saving model to ./checkpoints/corridor_weights00000022.h5\n",
      "966/966 - 61s - loss: 0.0995 - acc: 0.9679 - val_loss: 0.4088 - val_acc: 0.8755\n",
      "Epoch 23/100\n",
      "\n",
      "Epoch 00023: saving model to ./checkpoints/corridor_weights00000023.h5\n",
      "966/966 - 62s - loss: 0.0944 - acc: 0.9688 - val_loss: 0.3760 - val_acc: 0.8717\n",
      "Epoch 24/100\n",
      "\n",
      "Epoch 00024: saving model to ./checkpoints/corridor_weights00000024.h5\n",
      "966/966 - 60s - loss: 0.0949 - acc: 0.9698 - val_loss: 0.3585 - val_acc: 0.8938\n",
      "Epoch 25/100\n",
      "\n",
      "Epoch 00025: saving model to ./checkpoints/corridor_weights00000025.h5\n",
      "966/966 - 61s - loss: 0.0894 - acc: 0.9706 - val_loss: 0.3268 - val_acc: 0.8899\n",
      "Epoch 26/100\n",
      "\n",
      "Epoch 00026: saving model to ./checkpoints/corridor_weights00000026.h5\n",
      "966/966 - 61s - loss: 0.0886 - acc: 0.9709 - val_loss: 0.3480 - val_acc: 0.8929\n",
      "Epoch 27/100\n",
      "\n",
      "Epoch 00027: saving model to ./checkpoints/corridor_weights00000027.h5\n",
      "966/966 - 61s - loss: 0.0862 - acc: 0.9722 - val_loss: 0.5033 - val_acc: 0.8491\n",
      "Epoch 28/100\n",
      "\n",
      "Epoch 00028: saving model to ./checkpoints/corridor_weights00000028.h5\n",
      "966/966 - 61s - loss: 0.0848 - acc: 0.9723 - val_loss: 0.2784 - val_acc: 0.9138\n",
      "Epoch 29/100\n",
      "\n",
      "Epoch 00029: saving model to ./checkpoints/corridor_weights00000029.h5\n",
      "966/966 - 61s - loss: 0.0848 - acc: 0.9715 - val_loss: 0.3597 - val_acc: 0.8875\n",
      "Epoch 30/100\n",
      "\n",
      "Epoch 00030: saving model to ./checkpoints/corridor_weights00000030.h5\n",
      "966/966 - 61s - loss: 0.0819 - acc: 0.9728 - val_loss: 0.4317 - val_acc: 0.8571\n",
      "Epoch 31/100\n",
      "\n",
      "Epoch 00031: saving model to ./checkpoints/corridor_weights00000031.h5\n",
      "966/966 - 61s - loss: 0.0820 - acc: 0.9735 - val_loss: 0.5317 - val_acc: 0.8372\n",
      "Epoch 32/100\n",
      "\n",
      "Epoch 00032: saving model to ./checkpoints/corridor_weights00000032.h5\n",
      "966/966 - 61s - loss: 0.0830 - acc: 0.9732 - val_loss: 0.7211 - val_acc: 0.8001\n",
      "Epoch 33/100\n",
      "\n",
      "Epoch 00033: saving model to ./checkpoints/corridor_weights00000033.h5\n",
      "966/966 - 61s - loss: 0.0804 - acc: 0.9743 - val_loss: 0.3782 - val_acc: 0.8759\n",
      "Epoch 34/100\n",
      "\n",
      "Epoch 00034: saving model to ./checkpoints/corridor_weights00000034.h5\n",
      "966/966 - 61s - loss: 0.0803 - acc: 0.9736 - val_loss: 0.4887 - val_acc: 0.8543\n",
      "Epoch 35/100\n",
      "\n",
      "Epoch 00035: saving model to ./checkpoints/corridor_weights00000035.h5\n",
      "966/966 - 61s - loss: 0.0794 - acc: 0.9745 - val_loss: 0.4943 - val_acc: 0.8419\n",
      "Epoch 36/100\n",
      "\n",
      "Epoch 00036: saving model to ./checkpoints/corridor_weights00000036.h5\n",
      "966/966 - 61s - loss: 0.0755 - acc: 0.9753 - val_loss: 0.4758 - val_acc: 0.8590\n",
      "Epoch 37/100\n",
      "\n",
      "Epoch 00037: saving model to ./checkpoints/corridor_weights00000037.h5\n",
      "966/966 - 61s - loss: 0.0773 - acc: 0.9746 - val_loss: 0.6204 - val_acc: 0.8093\n",
      "Epoch 38/100\n",
      "\n",
      "Epoch 00038: saving model to ./checkpoints/corridor_weights00000038.h5\n",
      "966/966 - 61s - loss: 0.0764 - acc: 0.9749 - val_loss: 0.2433 - val_acc: 0.9223\n",
      "Epoch 39/100\n",
      "\n",
      "Epoch 00039: saving model to ./checkpoints/corridor_weights00000039.h5\n",
      "966/966 - 62s - loss: 0.0735 - acc: 0.9760 - val_loss: 0.4062 - val_acc: 0.8660\n",
      "Epoch 40/100\n",
      "\n",
      "Epoch 00040: saving model to ./checkpoints/corridor_weights00000040.h5\n",
      "966/966 - 61s - loss: 0.0744 - acc: 0.9766 - val_loss: 0.3047 - val_acc: 0.9075\n",
      "Epoch 41/100\n",
      "\n",
      "Epoch 00041: saving model to ./checkpoints/corridor_weights00000041.h5\n",
      "966/966 - 62s - loss: 0.0732 - acc: 0.9758 - val_loss: 0.4285 - val_acc: 0.8744\n",
      "Epoch 42/100\n",
      "\n",
      "Epoch 00042: saving model to ./checkpoints/corridor_weights00000042.h5\n",
      "966/966 - 61s - loss: 0.0720 - acc: 0.9761 - val_loss: 0.3573 - val_acc: 0.8817\n",
      "Epoch 43/100\n"
     ]
    },
    {
     "ename": "KeyboardInterrupt",
     "evalue": "",
     "output_type": "error",
     "traceback": [
      "\u001b[0;31m---------------------------------------------------------------------------\u001b[0m",
      "\u001b[0;31mKeyboardInterrupt\u001b[0m                         Traceback (most recent call last)",
      "\u001b[0;32m<ipython-input-24-e15ed881acf8>\u001b[0m in \u001b[0;36m<module>\u001b[0;34m\u001b[0m\n\u001b[1;32m      6\u001b[0m                                    \u001b[0mepochs\u001b[0m \u001b[0;34m=\u001b[0m \u001b[0;36m100\u001b[0m\u001b[0;34m,\u001b[0m\u001b[0;34m\u001b[0m\u001b[0;34m\u001b[0m\u001b[0m\n\u001b[1;32m      7\u001b[0m                                    \u001b[0mverbose\u001b[0m \u001b[0;34m=\u001b[0m \u001b[0;36m2\u001b[0m\u001b[0;34m,\u001b[0m\u001b[0;34m\u001b[0m\u001b[0;34m\u001b[0m\u001b[0m\n\u001b[0;32m----> 8\u001b[0;31m                                    callbacks = [checkpoint_saver])\n\u001b[0m\u001b[1;32m      9\u001b[0m \u001b[0;34m\u001b[0m\u001b[0m\n\u001b[1;32m     10\u001b[0m \u001b[0mend_time\u001b[0m \u001b[0;34m=\u001b[0m \u001b[0mtime\u001b[0m\u001b[0;34m.\u001b[0m\u001b[0mtime\u001b[0m\u001b[0;34m(\u001b[0m\u001b[0;34m)\u001b[0m\u001b[0;34m\u001b[0m\u001b[0;34m\u001b[0m\u001b[0m\n",
      "\u001b[0;32m~/venv_laptop_jupyter/lib/python3.6/site-packages/tensorflow/python/keras/engine/training.py\u001b[0m in \u001b[0;36mfit_generator\u001b[0;34m(self, generator, steps_per_epoch, epochs, verbose, callbacks, validation_data, validation_steps, validation_freq, class_weight, max_queue_size, workers, use_multiprocessing, shuffle, initial_epoch)\u001b[0m\n\u001b[1;32m   1431\u001b[0m         \u001b[0mshuffle\u001b[0m\u001b[0;34m=\u001b[0m\u001b[0mshuffle\u001b[0m\u001b[0;34m,\u001b[0m\u001b[0;34m\u001b[0m\u001b[0;34m\u001b[0m\u001b[0m\n\u001b[1;32m   1432\u001b[0m         \u001b[0minitial_epoch\u001b[0m\u001b[0;34m=\u001b[0m\u001b[0minitial_epoch\u001b[0m\u001b[0;34m,\u001b[0m\u001b[0;34m\u001b[0m\u001b[0;34m\u001b[0m\u001b[0m\n\u001b[0;32m-> 1433\u001b[0;31m         steps_name='steps_per_epoch')\n\u001b[0m\u001b[1;32m   1434\u001b[0m \u001b[0;34m\u001b[0m\u001b[0m\n\u001b[1;32m   1435\u001b[0m   def evaluate_generator(self,\n",
      "\u001b[0;32m~/venv_laptop_jupyter/lib/python3.6/site-packages/tensorflow/python/keras/engine/training_generator.py\u001b[0m in \u001b[0;36mmodel_iteration\u001b[0;34m(model, data, steps_per_epoch, epochs, verbose, callbacks, validation_data, validation_steps, validation_freq, class_weight, max_queue_size, workers, use_multiprocessing, shuffle, initial_epoch, mode, batch_size, steps_name, **kwargs)\u001b[0m\n\u001b[1;32m    218\u001b[0m     \u001b[0mstep\u001b[0m \u001b[0;34m=\u001b[0m \u001b[0;36m0\u001b[0m\u001b[0;34m\u001b[0m\u001b[0;34m\u001b[0m\u001b[0m\n\u001b[1;32m    219\u001b[0m     \u001b[0;32mwhile\u001b[0m \u001b[0mstep\u001b[0m \u001b[0;34m<\u001b[0m \u001b[0mtarget_steps\u001b[0m\u001b[0;34m:\u001b[0m\u001b[0;34m\u001b[0m\u001b[0;34m\u001b[0m\u001b[0m\n\u001b[0;32m--> 220\u001b[0;31m       \u001b[0mbatch_data\u001b[0m \u001b[0;34m=\u001b[0m \u001b[0m_get_next_batch\u001b[0m\u001b[0;34m(\u001b[0m\u001b[0mgenerator\u001b[0m\u001b[0;34m,\u001b[0m \u001b[0mmode\u001b[0m\u001b[0;34m)\u001b[0m\u001b[0;34m\u001b[0m\u001b[0;34m\u001b[0m\u001b[0m\n\u001b[0m\u001b[1;32m    221\u001b[0m       \u001b[0;32mif\u001b[0m \u001b[0mbatch_data\u001b[0m \u001b[0;32mis\u001b[0m \u001b[0;32mNone\u001b[0m\u001b[0;34m:\u001b[0m\u001b[0;34m\u001b[0m\u001b[0;34m\u001b[0m\u001b[0m\n\u001b[1;32m    222\u001b[0m         \u001b[0;32mif\u001b[0m \u001b[0mis_dataset\u001b[0m\u001b[0;34m:\u001b[0m\u001b[0;34m\u001b[0m\u001b[0;34m\u001b[0m\u001b[0m\n",
      "\u001b[0;32m~/venv_laptop_jupyter/lib/python3.6/site-packages/tensorflow/python/keras/engine/training_generator.py\u001b[0m in \u001b[0;36m_get_next_batch\u001b[0;34m(generator, mode)\u001b[0m\n\u001b[1;32m    360\u001b[0m   \u001b[0;34m\"\"\"Retrieves the next batch of input data.\"\"\"\u001b[0m\u001b[0;34m\u001b[0m\u001b[0;34m\u001b[0m\u001b[0m\n\u001b[1;32m    361\u001b[0m   \u001b[0;32mtry\u001b[0m\u001b[0;34m:\u001b[0m\u001b[0;34m\u001b[0m\u001b[0;34m\u001b[0m\u001b[0m\n\u001b[0;32m--> 362\u001b[0;31m     \u001b[0mgenerator_output\u001b[0m \u001b[0;34m=\u001b[0m \u001b[0mnext\u001b[0m\u001b[0;34m(\u001b[0m\u001b[0mgenerator\u001b[0m\u001b[0;34m)\u001b[0m\u001b[0;34m\u001b[0m\u001b[0;34m\u001b[0m\u001b[0m\n\u001b[0m\u001b[1;32m    363\u001b[0m   \u001b[0;32mexcept\u001b[0m \u001b[0;34m(\u001b[0m\u001b[0mStopIteration\u001b[0m\u001b[0;34m,\u001b[0m \u001b[0merrors\u001b[0m\u001b[0;34m.\u001b[0m\u001b[0mOutOfRangeError\u001b[0m\u001b[0;34m)\u001b[0m\u001b[0;34m:\u001b[0m\u001b[0;34m\u001b[0m\u001b[0;34m\u001b[0m\u001b[0m\n\u001b[1;32m    364\u001b[0m     \u001b[0;32mreturn\u001b[0m \u001b[0;32mNone\u001b[0m\u001b[0;34m\u001b[0m\u001b[0;34m\u001b[0m\u001b[0m\n",
      "\u001b[0;32m~/venv_laptop_jupyter/lib/python3.6/site-packages/tensorflow/python/keras/utils/data_utils.py\u001b[0m in \u001b[0;36mget\u001b[0;34m(self)\u001b[0m\n\u001b[1;32m    777\u001b[0m     \u001b[0;32mtry\u001b[0m\u001b[0;34m:\u001b[0m\u001b[0;34m\u001b[0m\u001b[0;34m\u001b[0m\u001b[0m\n\u001b[1;32m    778\u001b[0m       \u001b[0;32mwhile\u001b[0m \u001b[0mself\u001b[0m\u001b[0;34m.\u001b[0m\u001b[0mis_running\u001b[0m\u001b[0;34m(\u001b[0m\u001b[0;34m)\u001b[0m\u001b[0;34m:\u001b[0m\u001b[0;34m\u001b[0m\u001b[0;34m\u001b[0m\u001b[0m\n\u001b[0;32m--> 779\u001b[0;31m         \u001b[0minputs\u001b[0m \u001b[0;34m=\u001b[0m \u001b[0mself\u001b[0m\u001b[0;34m.\u001b[0m\u001b[0mqueue\u001b[0m\u001b[0;34m.\u001b[0m\u001b[0mget\u001b[0m\u001b[0;34m(\u001b[0m\u001b[0mblock\u001b[0m\u001b[0;34m=\u001b[0m\u001b[0;32mTrue\u001b[0m\u001b[0;34m)\u001b[0m\u001b[0;34m.\u001b[0m\u001b[0mget\u001b[0m\u001b[0;34m(\u001b[0m\u001b[0;34m)\u001b[0m\u001b[0;34m\u001b[0m\u001b[0;34m\u001b[0m\u001b[0m\n\u001b[0m\u001b[1;32m    780\u001b[0m         \u001b[0mself\u001b[0m\u001b[0;34m.\u001b[0m\u001b[0mqueue\u001b[0m\u001b[0;34m.\u001b[0m\u001b[0mtask_done\u001b[0m\u001b[0;34m(\u001b[0m\u001b[0;34m)\u001b[0m\u001b[0;34m\u001b[0m\u001b[0;34m\u001b[0m\u001b[0m\n\u001b[1;32m    781\u001b[0m         \u001b[0;32mif\u001b[0m \u001b[0minputs\u001b[0m \u001b[0;32mis\u001b[0m \u001b[0;32mnot\u001b[0m \u001b[0;32mNone\u001b[0m\u001b[0;34m:\u001b[0m\u001b[0;34m\u001b[0m\u001b[0;34m\u001b[0m\u001b[0m\n",
      "\u001b[0;32m/usr/lib/python3.6/multiprocessing/pool.py\u001b[0m in \u001b[0;36mget\u001b[0;34m(self, timeout)\u001b[0m\n\u001b[1;32m    636\u001b[0m \u001b[0;34m\u001b[0m\u001b[0m\n\u001b[1;32m    637\u001b[0m     \u001b[0;32mdef\u001b[0m \u001b[0mget\u001b[0m\u001b[0;34m(\u001b[0m\u001b[0mself\u001b[0m\u001b[0;34m,\u001b[0m \u001b[0mtimeout\u001b[0m\u001b[0;34m=\u001b[0m\u001b[0;32mNone\u001b[0m\u001b[0;34m)\u001b[0m\u001b[0;34m:\u001b[0m\u001b[0;34m\u001b[0m\u001b[0;34m\u001b[0m\u001b[0m\n\u001b[0;32m--> 638\u001b[0;31m         \u001b[0mself\u001b[0m\u001b[0;34m.\u001b[0m\u001b[0mwait\u001b[0m\u001b[0;34m(\u001b[0m\u001b[0mtimeout\u001b[0m\u001b[0;34m)\u001b[0m\u001b[0;34m\u001b[0m\u001b[0;34m\u001b[0m\u001b[0m\n\u001b[0m\u001b[1;32m    639\u001b[0m         \u001b[0;32mif\u001b[0m \u001b[0;32mnot\u001b[0m \u001b[0mself\u001b[0m\u001b[0;34m.\u001b[0m\u001b[0mready\u001b[0m\u001b[0;34m(\u001b[0m\u001b[0;34m)\u001b[0m\u001b[0;34m:\u001b[0m\u001b[0;34m\u001b[0m\u001b[0;34m\u001b[0m\u001b[0m\n\u001b[1;32m    640\u001b[0m             \u001b[0;32mraise\u001b[0m \u001b[0mTimeoutError\u001b[0m\u001b[0;34m\u001b[0m\u001b[0;34m\u001b[0m\u001b[0m\n",
      "\u001b[0;32m/usr/lib/python3.6/multiprocessing/pool.py\u001b[0m in \u001b[0;36mwait\u001b[0;34m(self, timeout)\u001b[0m\n\u001b[1;32m    633\u001b[0m \u001b[0;34m\u001b[0m\u001b[0m\n\u001b[1;32m    634\u001b[0m     \u001b[0;32mdef\u001b[0m \u001b[0mwait\u001b[0m\u001b[0;34m(\u001b[0m\u001b[0mself\u001b[0m\u001b[0;34m,\u001b[0m \u001b[0mtimeout\u001b[0m\u001b[0;34m=\u001b[0m\u001b[0;32mNone\u001b[0m\u001b[0;34m)\u001b[0m\u001b[0;34m:\u001b[0m\u001b[0;34m\u001b[0m\u001b[0;34m\u001b[0m\u001b[0m\n\u001b[0;32m--> 635\u001b[0;31m         \u001b[0mself\u001b[0m\u001b[0;34m.\u001b[0m\u001b[0m_event\u001b[0m\u001b[0;34m.\u001b[0m\u001b[0mwait\u001b[0m\u001b[0;34m(\u001b[0m\u001b[0mtimeout\u001b[0m\u001b[0;34m)\u001b[0m\u001b[0;34m\u001b[0m\u001b[0;34m\u001b[0m\u001b[0m\n\u001b[0m\u001b[1;32m    636\u001b[0m \u001b[0;34m\u001b[0m\u001b[0m\n\u001b[1;32m    637\u001b[0m     \u001b[0;32mdef\u001b[0m \u001b[0mget\u001b[0m\u001b[0;34m(\u001b[0m\u001b[0mself\u001b[0m\u001b[0;34m,\u001b[0m \u001b[0mtimeout\u001b[0m\u001b[0;34m=\u001b[0m\u001b[0;32mNone\u001b[0m\u001b[0;34m)\u001b[0m\u001b[0;34m:\u001b[0m\u001b[0;34m\u001b[0m\u001b[0;34m\u001b[0m\u001b[0m\n",
      "\u001b[0;32m/usr/lib/python3.6/threading.py\u001b[0m in \u001b[0;36mwait\u001b[0;34m(self, timeout)\u001b[0m\n\u001b[1;32m    549\u001b[0m             \u001b[0msignaled\u001b[0m \u001b[0;34m=\u001b[0m \u001b[0mself\u001b[0m\u001b[0;34m.\u001b[0m\u001b[0m_flag\u001b[0m\u001b[0;34m\u001b[0m\u001b[0;34m\u001b[0m\u001b[0m\n\u001b[1;32m    550\u001b[0m             \u001b[0;32mif\u001b[0m \u001b[0;32mnot\u001b[0m \u001b[0msignaled\u001b[0m\u001b[0;34m:\u001b[0m\u001b[0;34m\u001b[0m\u001b[0;34m\u001b[0m\u001b[0m\n\u001b[0;32m--> 551\u001b[0;31m                 \u001b[0msignaled\u001b[0m \u001b[0;34m=\u001b[0m \u001b[0mself\u001b[0m\u001b[0;34m.\u001b[0m\u001b[0m_cond\u001b[0m\u001b[0;34m.\u001b[0m\u001b[0mwait\u001b[0m\u001b[0;34m(\u001b[0m\u001b[0mtimeout\u001b[0m\u001b[0;34m)\u001b[0m\u001b[0;34m\u001b[0m\u001b[0;34m\u001b[0m\u001b[0m\n\u001b[0m\u001b[1;32m    552\u001b[0m             \u001b[0;32mreturn\u001b[0m \u001b[0msignaled\u001b[0m\u001b[0;34m\u001b[0m\u001b[0;34m\u001b[0m\u001b[0m\n\u001b[1;32m    553\u001b[0m \u001b[0;34m\u001b[0m\u001b[0m\n",
      "\u001b[0;32m/usr/lib/python3.6/threading.py\u001b[0m in \u001b[0;36mwait\u001b[0;34m(self, timeout)\u001b[0m\n\u001b[1;32m    293\u001b[0m         \u001b[0;32mtry\u001b[0m\u001b[0;34m:\u001b[0m    \u001b[0;31m# restore state no matter what (e.g., KeyboardInterrupt)\u001b[0m\u001b[0;34m\u001b[0m\u001b[0;34m\u001b[0m\u001b[0m\n\u001b[1;32m    294\u001b[0m             \u001b[0;32mif\u001b[0m \u001b[0mtimeout\u001b[0m \u001b[0;32mis\u001b[0m \u001b[0;32mNone\u001b[0m\u001b[0;34m:\u001b[0m\u001b[0;34m\u001b[0m\u001b[0;34m\u001b[0m\u001b[0m\n\u001b[0;32m--> 295\u001b[0;31m                 \u001b[0mwaiter\u001b[0m\u001b[0;34m.\u001b[0m\u001b[0macquire\u001b[0m\u001b[0;34m(\u001b[0m\u001b[0;34m)\u001b[0m\u001b[0;34m\u001b[0m\u001b[0;34m\u001b[0m\u001b[0m\n\u001b[0m\u001b[1;32m    296\u001b[0m                 \u001b[0mgotit\u001b[0m \u001b[0;34m=\u001b[0m \u001b[0;32mTrue\u001b[0m\u001b[0;34m\u001b[0m\u001b[0;34m\u001b[0m\u001b[0m\n\u001b[1;32m    297\u001b[0m             \u001b[0;32melse\u001b[0m\u001b[0;34m:\u001b[0m\u001b[0;34m\u001b[0m\u001b[0;34m\u001b[0m\u001b[0m\n",
      "\u001b[0;31mKeyboardInterrupt\u001b[0m: "
     ]
    }
   ],
   "source": [
    "start_time = time.time()\n",
    "\n",
    "trainHistory = model.fit_generator(dataAugmentation.flow(train_images, train_hot_encoding_vectors, batch_size = BATCH_SIZE),\n",
    "                                   validation_data = (validation_images, validation_hot_encoding_vectors),\n",
    "                                   steps_per_epoch = len(train_images) // BATCH_SIZE,\n",
    "                                   epochs = 100,\n",
    "                                   verbose = 2,\n",
    "                                   callbacks = [checkpoint_saver])\n",
    "\n",
    "end_time = time.time()"
   ]
  },
  {
   "cell_type": "code",
   "execution_count": 25,
   "metadata": {},
   "outputs": [
    {
     "name": "stdout",
     "output_type": "stream",
     "text": [
      "Total training time: 0[h] 43[min] 38[sec]\n"
     ]
    }
   ],
   "source": [
    "end_time = time.time()\n",
    "needed_time_sec = end_time - start_time\n",
    "hours = int(needed_time_sec/60/60)\n",
    "minutes = int(needed_time_sec/60%60)\n",
    "secondes = int(needed_time_sec%60)\n",
    "print(\"Total training time: \" + str(hours) + \"[h] \" + str(minutes) + \"[min] \" + str(secondes) + \"[sec]\")"
   ]
  },
  {
   "cell_type": "markdown",
   "metadata": {},
   "source": [
    "A History.history attribute saves a record of training loss values and metrics values at successive epochs, as well as validation loss values and validation metrics values (if applicable)."
   ]
  },
  {
   "cell_type": "markdown",
   "metadata": {},
   "source": [
    "## Evaluation\n",
    "To evaluate our model, we’ll use the validation data and print a classification_report"
   ]
  },
  {
   "cell_type": "code",
   "execution_count": 26,
   "metadata": {},
   "outputs": [
    {
     "name": "stdout",
     "output_type": "stream",
     "text": [
      "              precision    recall  f1-score   support\n",
      "\n",
      "        left       0.83      0.85      0.84     10253\n",
      "     forward       0.94      0.89      0.92     10104\n",
      "       right       0.83      0.84      0.84     10253\n",
      "\n",
      "    accuracy                           0.86     30610\n",
      "   macro avg       0.87      0.86      0.86     30610\n",
      "weighted avg       0.87      0.86      0.86     30610\n",
      "\n"
     ]
    }
   ],
   "source": [
    "predictions = model.predict(validation_images, batch_size = BATCH_SIZE)\n",
    "print(classification_report(validation_hot_encoding_vectors.argmax(axis = 1),\n",
    "                            predictions.argmax(axis = 1),\n",
    "                            target_names = np.asarray(LABELS)))"
   ]
  },
  {
   "cell_type": "markdown",
   "metadata": {},
   "source": [
    "Plot our accuracy/loss training history and save it to disk"
   ]
  },
  {
   "cell_type": "code",
   "execution_count": 28,
   "metadata": {},
   "outputs": [
    {
     "ename": "NameError",
     "evalue": "name 'trainHistory' is not defined",
     "output_type": "error",
     "traceback": [
      "\u001b[0;31m---------------------------------------------------------------------------\u001b[0m",
      "\u001b[0;31mNameError\u001b[0m                                 Traceback (most recent call last)",
      "\u001b[0;32m<ipython-input-28-3de66f1b13e5>\u001b[0m in \u001b[0;36m<module>\u001b[0;34m\u001b[0m\n\u001b[1;32m      1\u001b[0m \u001b[0mN\u001b[0m \u001b[0;34m=\u001b[0m \u001b[0mNUMBER_OF_EPOCHS\u001b[0m\u001b[0;34m\u001b[0m\u001b[0;34m\u001b[0m\u001b[0m\n\u001b[0;32m----> 2\u001b[0;31m \u001b[0mH\u001b[0m \u001b[0;34m=\u001b[0m \u001b[0mtrainHistory\u001b[0m\u001b[0;34m\u001b[0m\u001b[0;34m\u001b[0m\u001b[0m\n\u001b[0m\u001b[1;32m      3\u001b[0m \u001b[0mplt\u001b[0m\u001b[0;34m.\u001b[0m\u001b[0mstyle\u001b[0m\u001b[0;34m.\u001b[0m\u001b[0muse\u001b[0m\u001b[0;34m(\u001b[0m\u001b[0;34m\"ggplot\"\u001b[0m\u001b[0;34m)\u001b[0m\u001b[0;34m\u001b[0m\u001b[0;34m\u001b[0m\u001b[0m\n\u001b[1;32m      4\u001b[0m \u001b[0mplt\u001b[0m\u001b[0;34m.\u001b[0m\u001b[0mfigure\u001b[0m\u001b[0;34m(\u001b[0m\u001b[0mfigsize\u001b[0m\u001b[0;34m=\u001b[0m\u001b[0;34m(\u001b[0m\u001b[0;36m15\u001b[0m\u001b[0;34m,\u001b[0m\u001b[0;36m10\u001b[0m\u001b[0;34m)\u001b[0m\u001b[0;34m)\u001b[0m\u001b[0;34m\u001b[0m\u001b[0;34m\u001b[0m\u001b[0m\n\u001b[1;32m      5\u001b[0m \u001b[0mplt\u001b[0m\u001b[0;34m.\u001b[0m\u001b[0mplot\u001b[0m\u001b[0;34m(\u001b[0m\u001b[0mnp\u001b[0m\u001b[0;34m.\u001b[0m\u001b[0marange\u001b[0m\u001b[0;34m(\u001b[0m\u001b[0;36m0\u001b[0m\u001b[0;34m,\u001b[0m \u001b[0mN\u001b[0m\u001b[0;34m)\u001b[0m\u001b[0;34m,\u001b[0m \u001b[0mH\u001b[0m\u001b[0;34m.\u001b[0m\u001b[0mhistory\u001b[0m\u001b[0;34m[\u001b[0m\u001b[0;34m\"loss\"\u001b[0m\u001b[0;34m]\u001b[0m\u001b[0;34m,\u001b[0m \u001b[0mlabel\u001b[0m \u001b[0;34m=\u001b[0m \u001b[0;34m\"train_loss\"\u001b[0m\u001b[0;34m)\u001b[0m\u001b[0;34m\u001b[0m\u001b[0;34m\u001b[0m\u001b[0m\n",
      "\u001b[0;31mNameError\u001b[0m: name 'trainHistory' is not defined"
     ]
    }
   ],
   "source": [
    "N = NUMBER_OF_EPOCHS\n",
    "H = trainHistory\n",
    "plt.style.use(\"ggplot\")\n",
    "plt.figure(figsize=(15,10))\n",
    "plt.plot(np.arange(0, N), H.history[\"loss\"], label = \"train_loss\")\n",
    "plt.plot(np.arange(0, N), H.history[\"val_loss\"], label = \"val_loss\")\n",
    "plt.plot(np.arange(0, N), H.history[\"acc\"], label = \"train_acc\")\n",
    "plt.plot(np.arange(0, N), H.history[\"val_acc\"], label = \"val_acc\")\n",
    "plt.title(\"Training Loss and Accuracy on Dataset\")\n",
    "plt.xlabel(\"Epoch #\")\n",
    "plt.ylabel(\"Loss/Accuracy\")\n",
    "plt.legend(loc = \"lower left\")\n",
    "plt.savefig(TRAIN_EVAL_PLOT_PATH + \"/\"+ MODEL_NAME +\"_Loss_Accuracy.png\")\n",
    "\n",
    "ymax = max(H.history[\"val_acc\"])\n",
    "xpos = H.history[\"val_acc\"].index(ymax)\n",
    "print(\"Best val. Accuracy \" + str(H.history[\"val_acc\"][xpos]) + \" at Epoch \" + str(xpos+1))\n",
    "plt.plot([xpos],[H.history[\"val_acc\"][xpos]],\"ro\",markersize=12)\n",
    "plt.show()"
   ]
  },
  {
   "cell_type": "markdown",
   "metadata": {},
   "source": [
    "### Sources\n",
    "- https://www.tensorflow.org/guide/keras\n",
    "- http://rpg.ifi.uzh.ch/docs/RAL16_Giusti.pdf\n",
    "- https://www.pyimagesearch.com/2018/12/31/keras-conv2d-and-convolutional-layers/\n",
    "- https://keras.io/models/sequential/"
   ]
  }
 ],
 "metadata": {
  "kernelspec": {
   "display_name": "venv_laptop_jupyter",
   "language": "python",
   "name": "venv_laptop_jupyter"
  },
  "language_info": {
   "codemirror_mode": {
    "name": "ipython",
    "version": 3
   },
   "file_extension": ".py",
   "mimetype": "text/x-python",
   "name": "python",
   "nbconvert_exporter": "python",
   "pygments_lexer": "ipython3",
   "version": "3.6.8"
  },
  "pycharm": {
   "stem_cell": {
    "cell_type": "raw",
    "metadata": {
     "collapsed": false
    },
    "source": []
   }
  }
 },
 "nbformat": 4,
 "nbformat_minor": 2
}
