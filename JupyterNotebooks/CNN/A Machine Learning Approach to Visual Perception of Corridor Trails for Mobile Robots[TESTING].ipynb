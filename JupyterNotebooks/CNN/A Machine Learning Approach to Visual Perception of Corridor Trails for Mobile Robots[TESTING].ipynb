{
 "cells": [
  {
   "cell_type": "markdown",
   "metadata": {},
   "source": [
    "# A Machine Learning Approach to Visual Perception of Corridor Trails for Mobile Robots"
   ]
  },
  {
   "cell_type": "markdown",
   "metadata": {},
   "source": [
    "@Author: Artur Leinweber <br>\n",
    "@E-Mail: arturleinweber@live.de <br>\n",
    "@University: Westphalian University of Gelsenkirchen <br>"
   ]
  },
  {
   "cell_type": "markdown",
   "metadata": {},
   "source": [
    "### Imports\n",
    "tf.keras is TensorFlow's implementation of the Keras API specification. This is a high-level API to build and train models that includes first-class support for TensorFlow-specific functionality.\n",
    "Importing tf.keras makes TensorFlow easier to use without sacrificing flexibility and performance."
   ]
  },
  {
   "cell_type": "code",
   "execution_count": 1,
   "metadata": {},
   "outputs": [
    {
     "name": "stdout",
     "output_type": "stream",
     "text": [
      "Tensorflow Version: 1.13.1\n",
      "Keras Version: 2.2.4-tf\n"
     ]
    }
   ],
   "source": [
    "%matplotlib inline  \n",
    "import tensorflow as tf\n",
    "from tensorflow.keras import layers, regularizers, utils, preprocessing, optimizers, backend\n",
    "from sklearn.model_selection import train_test_split\n",
    "from sklearn.preprocessing import LabelBinarizer\n",
    "from sklearn.metrics import classification_report\n",
    "from IPython.display import Image\n",
    "import matplotlib.pyplot as plt\n",
    "import scipy.misc\n",
    "from imutils import paths\n",
    "import numpy as np\n",
    "import time\n",
    "import math\n",
    "import os\n",
    "import cv2\n",
    "\n",
    "import warnings\n",
    "warnings.filterwarnings('ignore')\n",
    "\n",
    "print(\"Tensorflow Version: \" + tf.VERSION)\n",
    "print(\"Keras Version: \" + tf.keras.__version__)\n",
    "tf.logging.set_verbosity(tf.logging.ERROR)"
   ]
  },
  {
   "cell_type": "markdown",
   "metadata": {},
   "source": [
    "### Load dataset for testing"
   ]
  },
  {
   "cell_type": "code",
   "execution_count": 2,
   "metadata": {},
   "outputs": [],
   "source": [
    "DATASET_PATH = os.getcwd() + \"/test_dataset/corridor_03\""
   ]
  },
  {
   "cell_type": "markdown",
   "metadata": {},
   "source": [
    "Genrate a list of image pathes for our testing"
   ]
  },
  {
   "cell_type": "code",
   "execution_count": 3,
   "metadata": {},
   "outputs": [
    {
     "name": "stdout",
     "output_type": "stream",
     "text": [
      "Size of the dataset: 3\n"
     ]
    }
   ],
   "source": [
    "imagePaths = list(paths.list_images(DATASET_PATH))\n",
    "print(\"Size of the dataset: \" + str(len(imagePaths)))"
   ]
  },
  {
   "cell_type": "markdown",
   "metadata": {},
   "source": [
    "Grab the list of images in our dataset directory, then initialize the list of data (i.e., images) and class images"
   ]
  },
  {
   "cell_type": "code",
   "execution_count": 4,
   "metadata": {},
   "outputs": [],
   "source": [
    "images_lst = []\n",
    "for imagePath in imagePaths:\n",
    "    image = cv2.imread(imagePath)\n",
    "    image = cv2.resize(image, (101, 101))\n",
    "    images_lst.append(image)"
   ]
  },
  {
   "cell_type": "markdown",
   "metadata": {},
   "source": [
    "Convert the data into a NumPy array, then preprocess it by scaling all pixel intensities to the range (0, 1)"
   ]
  },
  {
   "cell_type": "code",
   "execution_count": 5,
   "metadata": {},
   "outputs": [],
   "source": [
    "images_np = np.array(images_lst, dtype=\"float\") / 255.0"
   ]
  },
  {
   "cell_type": "markdown",
   "metadata": {},
   "source": [
    "### Restore model parameters\n",
    "Recreate the exact same model, including weights and optimizer."
   ]
  },
  {
   "cell_type": "code",
   "execution_count": 6,
   "metadata": {},
   "outputs": [],
   "source": [
    "model = tf.keras.models.load_model('./checkpoints/corridor_weights00000001.h5')"
   ]
  },
  {
   "cell_type": "markdown",
   "metadata": {},
   "source": [
    "### Inference"
   ]
  },
  {
   "cell_type": "markdown",
   "metadata": {},
   "source": [
    "Returns whether TensorFlow can access a Nvidia GPU with CUDA"
   ]
  },
  {
   "cell_type": "code",
   "execution_count": 7,
   "metadata": {},
   "outputs": [
    {
     "data": {
      "text/plain": [
       "True"
      ]
     },
     "execution_count": 7,
     "metadata": {},
     "output_type": "execute_result"
    }
   ],
   "source": [
    "tf.test.is_gpu_available(cuda_only = True)"
   ]
  },
  {
   "cell_type": "markdown",
   "metadata": {},
   "source": [
    "Generates output predictions for the input samples.\n",
    "Computation is done in batches."
   ]
  },
  {
   "cell_type": "code",
   "execution_count": 8,
   "metadata": {},
   "outputs": [
    {
     "name": "stdout",
     "output_type": "stream",
     "text": [
      "1/1 [==============================] - 1s 1s/sample\n",
      "1/1 [==============================] - 0s 2ms/sample\n",
      "1/1 [==============================] - 0s 2ms/sample\n"
     ]
    }
   ],
   "source": [
    "predictions = list()\n",
    "\n",
    "for i in range(len(images_np)):\n",
    "    prediction = model.predict(np.expand_dims(images_np[i],axis=0),\n",
    "                                   batch_size = None,\n",
    "                                   verbose = 1,\n",
    "                                   steps = None,\n",
    "                                   max_queue_size = 10,\n",
    "                                   workers = 1,\n",
    "                                   use_multiprocessing = False)\n",
    "    predictions.append(prediction)\n",
    "    \n",
    "predictions = np.asarray(predictions)"
   ]
  },
  {
   "cell_type": "markdown",
   "metadata": {},
   "source": [
    "Calculate yaw angle for the robot controller"
   ]
  },
  {
   "cell_type": "code",
   "execution_count": 9,
   "metadata": {},
   "outputs": [],
   "source": [
    "yaw_angles = list()\n",
    "for i in range(len(predictions)):\n",
    "    left_propability = predictions[i][0][1]\n",
    "    right_propability = predictions[i][0][2]\n",
    "\n",
    "    propability = left_propability - right_propability\n",
    "    yaw_angle = propability * 30\n",
    "    yaw_angles.append(yaw_angle)"
   ]
  },
  {
   "cell_type": "markdown",
   "metadata": {},
   "source": [
    "### Visualizing Results\n",
    "Generate for each image an activation- and heatmap"
   ]
  },
  {
   "cell_type": "code",
   "execution_count": 10,
   "metadata": {},
   "outputs": [],
   "source": [
    "heat_maps = []\n",
    "activation_maps = []\n",
    "\n",
    "for i in range(len(predictions)):\n",
    "\n",
    "    FIRST_ELEMENT = i\n",
    "    prediction_vector_index = np.argmax(predictions[FIRST_ELEMENT])\n",
    "\n",
    "    # This is the entry in the prediction vector\n",
    "    model_output = model.output[:, prediction_vector_index]\n",
    "\n",
    "    # The is the output feature map of the `conv2d_3` layer,\n",
    "    # the last convolutional layer in CNN\n",
    "    last_conv_layer = model.get_layer('conv2d_3')\n",
    "\n",
    "    # This is the gradient of the activated class with regard to\n",
    "    # the output feature map of `conv2d_3`\n",
    "    grads = backend.gradients(model_output, last_conv_layer.output)[0]\n",
    "\n",
    "    # This is a vector of shape (32,), where each entry\n",
    "    # is the mean intensity of the gradient over a specific feature map channel\n",
    "    pooled_grads = backend.mean(grads, axis=(0, 1, 2))\n",
    "\n",
    "    # This function allows us to access the values of the quantities we just defined:\n",
    "    # `pooled_grads` and the output feature map of `conv2d_3`,\n",
    "    # given a sample image\n",
    "    iterate = backend.function([model.input], [pooled_grads, last_conv_layer.output[0]])\n",
    "\n",
    "    # These are the values of these two quantities, as Numpy arrays,\n",
    "    # given our sample image of the corridor\n",
    "    x = np.expand_dims(images_np[0], axis=0)\n",
    "    pooled_grads_value, conv_layer_output_value = iterate([x])\n",
    "\n",
    "    # We multiply each channel in the feature map array\n",
    "    # by \"how important this channel is\" with regard one of to the left,right or forward class\n",
    "    for i in range(32):\n",
    "        conv_layer_output_value[:, :, i] *= pooled_grads_value[i]\n",
    "\n",
    "    # The channel-wise mean of the resulting feature map\n",
    "    # is our heatmap of class activation\n",
    "    heatmap = np.mean(conv_layer_output_value, axis=-1)\n",
    "    heatmap = np.maximum(heatmap, 0)\n",
    "    heatmap /= np.max(heatmap)\n",
    "\n",
    "    activation_maps.append(heatmap)\n",
    "\n",
    "    # We use cv2 to load the original image\n",
    "    img = images_np[FIRST_ELEMENT]\n",
    "\n",
    "    # We resize the heatmap to have the same size as the original image\n",
    "    heatmap = cv2.resize(heatmap, (img.shape[1], img.shape[0]))\n",
    "\n",
    "    # We convert the heatmap to a numpy array\n",
    "    heatmap = np.uint8(255 * heatmap)\n",
    "\n",
    "    # We apply the heatmap to the original image\n",
    "    heatmap = cv2.applyColorMap(heatmap, cv2.COLORMAP_JET)\n",
    "    \n",
    "    # BGR to RGB\n",
    "    heatmap = cv2.cvtColor(heatmap,cv2.COLOR_BGR2RGB)\n",
    "    \n",
    "    # 0.4 here is a heatmap intensity factor\n",
    "    superimposed_img = scipy.misc.toimage(heatmap * 0.4 + img)\n",
    "    \n",
    "    heat_maps.append(superimposed_img)"
   ]
  },
  {
   "cell_type": "markdown",
   "metadata": {},
   "source": [
    "Plot the results"
   ]
  },
  {
   "cell_type": "code",
   "execution_count": 11,
   "metadata": {},
   "outputs": [
    {
     "data": {
      "image/png": "[encoded data removed]",
      "text/plain": [
       "<Figure size 720x72 with 5 Axes>"
      ]
     },
     "metadata": {
      "needs_background": "light"
     },
     "output_type": "display_data"
    },
    {
     "data": {
      "image/png": "[encoded data removed]",
      "text/plain": [
       "<Figure size 720x72 with 5 Axes>"
      ]
     },
     "metadata": {
      "needs_background": "light"
     },
     "output_type": "display_data"
    },
    {
     "data": {
      "image/png": "[encoded data removed]",
      "text/plain": [
       "<Figure size 720x72 with 5 Axes>"
      ]
     },
     "metadata": {
      "needs_background": "light"
     },
     "output_type": "display_data"
    }
   ],
   "source": [
    "for i in range(len(yaw_angles)):\n",
    "    yaw_angle = yaw_angles[i]\n",
    "    prediction = predictions[i]\n",
    "    inference_image = images_np[i]\n",
    "    \n",
    "    labels = ('L','F','R')\n",
    "    y_pos = np.arange(len(labels))\n",
    "\n",
    "    plt.figure(figsize=(10, 1))\n",
    "    plt.subplot(151)\n",
    "    plt.imshow(inference_image)\n",
    "    \n",
    "    #plt.figure(figsize=(9, 2))\n",
    "    plt.subplot(152)\n",
    "    plt.imshow(activation_maps[i])\n",
    "    \n",
    "    #plt.figure(figsize=(9, 2))\n",
    "    plt.subplot(153)\n",
    "    plt.imshow(heat_maps[i])\n",
    "\n",
    "    plt.subplot(154)\n",
    "    plt.bar(y_pos, [prediction[0][1], prediction[0][0], prediction[0][2]], align='center', alpha=0.5)\n",
    "    plt.xticks(y_pos, labels)\n",
    "\n",
    "    ax = plt.subplot(155)\n",
    "    ax.set_xlim([-90,90])\n",
    "    ax.set_ylim([0,181])\n",
    "    ax.get_yaxis().set_visible(False)\n",
    "    ax.set_xticks([-90,0,90])\n",
    "    ax.text(-15, 125, str(round(yaw_angle,2)),\n",
    "            bbox={'facecolor': 'blue', 'alpha': 0.5, 'pad': 10})\n",
    "    plt.arrow(0, 0, 70 * math.sin(math.radians(yaw_angle)), 70 * math.cos(math.radians(yaw_angle)), shape=\"full\",head_width=181*0.1, width=181*0.005)\n",
    "\n",
    "    plt.subplots_adjust(top=0.92, \n",
    "                        bottom=0.08, \n",
    "                        left=0.10, \n",
    "                        right=0.95, \n",
    "                        hspace=0.25,\n",
    "                        wspace=0.35)\n",
    "\n",
    "    plt.show()"
   ]
  },
  {
   "cell_type": "code",
   "execution_count": null,
   "metadata": {},
   "outputs": [],
   "source": []
  }
 ],
 "metadata": {
  "kernelspec": {
   "display_name": "Python 3",
   "language": "python",
   "name": "python3"
  },
  "language_info": {
   "codemirror_mode": {
    "name": "ipython",
    "version": 3
   },
   "file_extension": ".py",
   "mimetype": "text/x-python",
   "name": "python",
   "nbconvert_exporter": "python",
   "pygments_lexer": "ipython3",
   "version": "3.6.7"
  }
 },
 "nbformat": 4,
 "nbformat_minor": 2
}
